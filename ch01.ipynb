{
  "nbformat": 4,
  "nbformat_minor": 0,
  "metadata": {
    "colab": {
      "provenance": [],
      "authorship_tag": "ABX9TyN0TdDw3TQ7V5VR+kF3jgM8",
      "include_colab_link": true
    },
    "kernelspec": {
      "name": "python3",
      "display_name": "Python 3"
    },
    "language_info": {
      "name": "python"
    }
  },
  "cells": [
    {
      "cell_type": "markdown",
      "metadata": {
        "id": "view-in-github",
        "colab_type": "text"
      },
      "source": [
        "<a href=\"https://colab.research.google.com/github/kurokawa5/nlp100_2020/blob/main/ch01.ipynb\" target=\"_parent\"><img src=\"https://colab.research.google.com/assets/colab-badge.svg\" alt=\"Open In Colab\"/></a>"
      ]
    },
    {
      "cell_type": "markdown",
      "source": [
        "# 言語処理100本ノック\n",
        "[第1章: 準備運動](https://nlp100.github.io/ja/ch01.html)"
      ],
      "metadata": {
        "id": "E_0TbcnhoOp8"
      }
    },
    {
      "cell_type": "markdown",
      "source": [
        "### 00. 文字列の逆順\n",
        "#### 文字列”stressed”の文字を逆に（末尾から先頭に向かって）並べた文字列を得よ．"
      ],
      "metadata": {
        "id": "y6WdUrn9n5nf"
      }
    },
    {
      "cell_type": "code",
      "source": [
        "ans = \"stressed\"\n",
        "print(ans[::-1])"
      ],
      "metadata": {
        "colab": {
          "base_uri": "https://localhost:8080/"
        },
        "id": "zQbaWRyPoCOm",
        "outputId": "ebf02674-bc10-4568-edf2-d84c31d4db11"
      },
      "execution_count": 2,
      "outputs": [
        {
          "output_type": "stream",
          "name": "stdout",
          "text": [
            "desserts\n"
          ]
        }
      ]
    },
    {
      "cell_type": "markdown",
      "source": [
        "### 01. 「パタトクカシーー」\n",
        "#### 「パタトクカシーー」という文字列の1,3,5,7文字目を取り出して連結した文字列を得よ. (パトカーにしたい)\n"
      ],
      "metadata": {
        "id": "hr3Cxok7oV6l"
      }
    },
    {
      "cell_type": "code",
      "source": [
        "ans = \"パタトクカシーー\"\n",
        "print(ans[::2])"
      ],
      "metadata": {
        "colab": {
          "base_uri": "https://localhost:8080/"
        },
        "id": "PkVAEEiGoLce",
        "outputId": "a76f0f8d-c75e-4ca4-953d-07f8dea1f0d6"
      },
      "execution_count": 3,
      "outputs": [
        {
          "output_type": "stream",
          "name": "stdout",
          "text": [
            "パトカー\n"
          ]
        }
      ]
    },
    {
      "cell_type": "markdown",
      "source": [
        "### 02. 「パトカー」＋「タクシー」＝「パタトクカシーー」\n",
        "#### 「パトカー」＋「タクシー」の文字を先頭から交互に連結して文字列「パタトクカシーー」を得よ．"
      ],
      "metadata": {
        "id": "0l1iDmhTow65"
      }
    },
    {
      "cell_type": "code",
      "source": [
        "text1 = \"パトカー\"\n",
        "text2 = \"タクシー\"\n",
        "ans = ''\n",
        "for i, j in zip(text1, text2):\n",
        "  ans += i+j\n",
        "  \n",
        "str(ans)"
      ],
      "metadata": {
        "colab": {
          "base_uri": "https://localhost:8080/",
          "height": 35
        },
        "id": "oSnjaMXroxnL",
        "outputId": "f2b0f558-40ef-4e8a-a88c-b8bee39e0c51"
      },
      "execution_count": 13,
      "outputs": [
        {
          "output_type": "execute_result",
          "data": {
            "text/plain": [
              "'パタトクカシーー'"
            ],
            "application/vnd.google.colaboratory.intrinsic+json": {
              "type": "string"
            }
          },
          "metadata": {},
          "execution_count": 13
        }
      ]
    },
    {
      "cell_type": "markdown",
      "source": [
        "### 03. 円周率Permalink\n",
        "####“Now I need a drink, alcoholic of course, after the heavy lectures involving quantum mechanics.”という文を単語に分解し，各単語の（アルファベットの）文字数を先頭から出現順に並べたリストを作成せよ．"
      ],
      "metadata": {
        "id": "3rEijVLS7lR4"
      }
    },
    {
      "cell_type": "code",
      "source": [
        "raw_text = \"Now I need a drink, alcoholic of course, after the heavy lectures involving quantum mechanics.\"\n",
        "text = raw_text.replace(\",\",\"\").replace(\".\",\"\")\n",
        "ans = [len(item) for item in text.split()]\n",
        "ans"
      ],
      "metadata": {
        "colab": {
          "base_uri": "https://localhost:8080/"
        },
        "id": "suweGmtq7nOj",
        "outputId": "b6406f40-77e8-40f6-f907-099f4955ee0b"
      },
      "execution_count": 14,
      "outputs": [
        {
          "output_type": "execute_result",
          "data": {
            "text/plain": [
              "[3, 1, 4, 1, 5, 9, 2, 6, 5, 3, 5, 8, 9, 7, 9]"
            ]
          },
          "metadata": {},
          "execution_count": 14
        }
      ]
    },
    {
      "cell_type": "code",
      "source": [],
      "metadata": {
        "id": "YOgl9sik8Blh"
      },
      "execution_count": null,
      "outputs": []
    }
  ]
}